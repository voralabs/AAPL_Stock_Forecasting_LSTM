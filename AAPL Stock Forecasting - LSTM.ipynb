{
 "cells": [
  {
   "cell_type": "code",
   "execution_count": 3,
   "id": "b6f5f8c4",
   "metadata": {},
   "outputs": [],
   "source": [
    "import pandas_datareader as pdr"
   ]
  },
  {
   "cell_type": "code",
   "execution_count": 5,
   "id": "4679e0bc",
   "metadata": {},
   "outputs": [
    {
     "name": "stderr",
     "output_type": "stream",
     "text": [
      "/opt/anaconda3/lib/python3.9/site-packages/pandas_datareader/tiingo.py:234: FutureWarning: In a future version of pandas all arguments of concat except for the argument 'objs' will be keyword-only\n",
      "  return pd.concat(dfs, self._concat_axis)\n"
     ]
    }
   ],
   "source": [
    "df = pdr.get_data_tiingo('AAPL', api_key=\"enter actual key here\")"
   ]
  },
  {
   "cell_type": "code",
   "execution_count": 6,
   "id": "01a048d4",
   "metadata": {},
   "outputs": [],
   "source": [
    "df.to_csv(\"AAPL.csv\")"
   ]
  },
  {
   "cell_type": "code",
   "execution_count": 7,
   "id": "6ed1fe26",
   "metadata": {},
   "outputs": [],
   "source": [
    "import pandas as pd"
   ]
  },
  {
   "cell_type": "code",
   "execution_count": 8,
   "id": "5b870b1d",
   "metadata": {},
   "outputs": [],
   "source": [
    "df = pd.read_csv(\"AAPL.csv\")"
   ]
  },
  {
   "cell_type": "code",
   "execution_count": 21,
   "id": "d7a69b37",
   "metadata": {},
   "outputs": [
    {
     "data": {
      "text/html": [
       "<div>\n",
       "<style scoped>\n",
       "    .dataframe tbody tr th:only-of-type {\n",
       "        vertical-align: middle;\n",
       "    }\n",
       "\n",
       "    .dataframe tbody tr th {\n",
       "        vertical-align: top;\n",
       "    }\n",
       "\n",
       "    .dataframe thead th {\n",
       "        text-align: right;\n",
       "    }\n",
       "</style>\n",
       "<table border=\"1\" class=\"dataframe\">\n",
       "  <thead>\n",
       "    <tr style=\"text-align: right;\">\n",
       "      <th></th>\n",
       "      <th>symbol</th>\n",
       "      <th>date</th>\n",
       "      <th>close</th>\n",
       "      <th>high</th>\n",
       "      <th>low</th>\n",
       "      <th>open</th>\n",
       "      <th>volume</th>\n",
       "      <th>adjClose</th>\n",
       "      <th>adjHigh</th>\n",
       "      <th>adjLow</th>\n",
       "      <th>adjOpen</th>\n",
       "      <th>adjVolume</th>\n",
       "      <th>divCash</th>\n",
       "      <th>splitFactor</th>\n",
       "    </tr>\n",
       "  </thead>\n",
       "  <tbody>\n",
       "    <tr>\n",
       "      <th>0</th>\n",
       "      <td>AAPL</td>\n",
       "      <td>2019-02-19 00:00:00+00:00</td>\n",
       "      <td>170.93</td>\n",
       "      <td>171.44</td>\n",
       "      <td>169.49</td>\n",
       "      <td>169.71</td>\n",
       "      <td>18972826</td>\n",
       "      <td>41.137246</td>\n",
       "      <td>41.259986</td>\n",
       "      <td>40.790685</td>\n",
       "      <td>40.843632</td>\n",
       "      <td>75891304</td>\n",
       "      <td>0.0</td>\n",
       "      <td>1.0</td>\n",
       "    </tr>\n",
       "    <tr>\n",
       "      <th>1</th>\n",
       "      <td>AAPL</td>\n",
       "      <td>2019-02-20 00:00:00+00:00</td>\n",
       "      <td>172.03</td>\n",
       "      <td>173.32</td>\n",
       "      <td>170.99</td>\n",
       "      <td>171.19</td>\n",
       "      <td>26114362</td>\n",
       "      <td>41.401980</td>\n",
       "      <td>41.712440</td>\n",
       "      <td>41.151686</td>\n",
       "      <td>41.199819</td>\n",
       "      <td>104457448</td>\n",
       "      <td>0.0</td>\n",
       "      <td>1.0</td>\n",
       "    </tr>\n",
       "    <tr>\n",
       "      <th>2</th>\n",
       "      <td>AAPL</td>\n",
       "      <td>2019-02-21 00:00:00+00:00</td>\n",
       "      <td>171.06</td>\n",
       "      <td>172.37</td>\n",
       "      <td>170.30</td>\n",
       "      <td>171.80</td>\n",
       "      <td>17249670</td>\n",
       "      <td>41.168532</td>\n",
       "      <td>41.483806</td>\n",
       "      <td>40.985625</td>\n",
       "      <td>41.346626</td>\n",
       "      <td>68998680</td>\n",
       "      <td>0.0</td>\n",
       "      <td>1.0</td>\n",
       "    </tr>\n",
       "    <tr>\n",
       "      <th>3</th>\n",
       "      <td>AAPL</td>\n",
       "      <td>2019-02-22 00:00:00+00:00</td>\n",
       "      <td>172.97</td>\n",
       "      <td>173.00</td>\n",
       "      <td>171.38</td>\n",
       "      <td>171.58</td>\n",
       "      <td>18913154</td>\n",
       "      <td>41.628207</td>\n",
       "      <td>41.635427</td>\n",
       "      <td>41.245546</td>\n",
       "      <td>41.293679</td>\n",
       "      <td>75652616</td>\n",
       "      <td>0.0</td>\n",
       "      <td>1.0</td>\n",
       "    </tr>\n",
       "    <tr>\n",
       "      <th>4</th>\n",
       "      <td>AAPL</td>\n",
       "      <td>2019-02-25 00:00:00+00:00</td>\n",
       "      <td>174.23</td>\n",
       "      <td>175.87</td>\n",
       "      <td>173.95</td>\n",
       "      <td>174.16</td>\n",
       "      <td>21873358</td>\n",
       "      <td>41.931447</td>\n",
       "      <td>42.326142</td>\n",
       "      <td>41.864061</td>\n",
       "      <td>41.914601</td>\n",
       "      <td>87493432</td>\n",
       "      <td>0.0</td>\n",
       "      <td>1.0</td>\n",
       "    </tr>\n",
       "  </tbody>\n",
       "</table>\n",
       "</div>"
      ],
      "text/plain": [
       "  symbol                       date   close    high     low    open    volume  \\\n",
       "0   AAPL  2019-02-19 00:00:00+00:00  170.93  171.44  169.49  169.71  18972826   \n",
       "1   AAPL  2019-02-20 00:00:00+00:00  172.03  173.32  170.99  171.19  26114362   \n",
       "2   AAPL  2019-02-21 00:00:00+00:00  171.06  172.37  170.30  171.80  17249670   \n",
       "3   AAPL  2019-02-22 00:00:00+00:00  172.97  173.00  171.38  171.58  18913154   \n",
       "4   AAPL  2019-02-25 00:00:00+00:00  174.23  175.87  173.95  174.16  21873358   \n",
       "\n",
       "    adjClose    adjHigh     adjLow    adjOpen  adjVolume  divCash  splitFactor  \n",
       "0  41.137246  41.259986  40.790685  40.843632   75891304      0.0          1.0  \n",
       "1  41.401980  41.712440  41.151686  41.199819  104457448      0.0          1.0  \n",
       "2  41.168532  41.483806  40.985625  41.346626   68998680      0.0          1.0  \n",
       "3  41.628207  41.635427  41.245546  41.293679   75652616      0.0          1.0  \n",
       "4  41.931447  42.326142  41.864061  41.914601   87493432      0.0          1.0  "
      ]
     },
     "execution_count": 21,
     "metadata": {},
     "output_type": "execute_result"
    }
   ],
   "source": [
    "df.head()"
   ]
  },
  {
   "cell_type": "code",
   "execution_count": 12,
   "id": "7aa1a072",
   "metadata": {},
   "outputs": [],
   "source": [
    "df1 = df.reset_index()['close']"
   ]
  },
  {
   "cell_type": "code",
   "execution_count": 13,
   "id": "7a0d92e1",
   "metadata": {},
   "outputs": [
    {
     "data": {
      "text/plain": [
       "[<matplotlib.lines.Line2D at 0x7f8ad010fbe0>]"
      ]
     },
     "execution_count": 13,
     "metadata": {},
     "output_type": "execute_result"
    },
    {
     "data": {
      "image/png": "[encoded data removed]",
      "text/plain": [
       "<Figure size 432x288 with 1 Axes>"
      ]
     },
     "metadata": {
      "needs_background": "light"
     },
     "output_type": "display_data"
    }
   ],
   "source": [
    "import matplotlib.pyplot as plt\n",
    "plt.plot(df1)"
   ]
  },
  {
   "cell_type": "code",
   "execution_count": 14,
   "id": "bdabfdb8",
   "metadata": {},
   "outputs": [],
   "source": [
    "import numpy as np"
   ]
  },
  {
   "cell_type": "code",
   "execution_count": 18,
   "id": "682fc748",
   "metadata": {},
   "outputs": [
    {
     "data": {
      "text/plain": [
       "1.0    1258\n",
       "4.0       1\n",
       "Name: splitFactor, dtype: int64"
      ]
     },
     "execution_count": 18,
     "metadata": {},
     "output_type": "execute_result"
    }
   ],
   "source": [
    "df[\"splitFactor\"].value_counts()"
   ]
  },
  {
   "cell_type": "code",
   "execution_count": 19,
   "id": "3036151f",
   "metadata": {},
   "outputs": [],
   "source": [
    "from sklearn.preprocessing import MinMaxScaler\n",
    "scaler = MinMaxScaler(feature_range=(0,1))\n",
    "df1 = scaler.fit_transform(np.array(df1).reshape(-1,1))"
   ]
  },
  {
   "cell_type": "code",
   "execution_count": 20,
   "id": "092672cb",
   "metadata": {},
   "outputs": [
    {
     "data": {
      "text/plain": [
       "array([[0.16052599],\n",
       "       [0.16328115],\n",
       "       [0.1608516 ],\n",
       "       ...,\n",
       "       [0.19363807],\n",
       "       [0.19291171],\n",
       "       [0.18902943]])"
      ]
     },
     "execution_count": 20,
     "metadata": {},
     "output_type": "execute_result"
    }
   ],
   "source": [
    "df1"
   ]
  },
  {
   "cell_type": "code",
   "execution_count": 22,
   "id": "2e073dbf",
   "metadata": {},
   "outputs": [],
   "source": [
    "##splitting dataset into train and test split\n",
    "training_size=int(len(df1)*0.65)\n",
    "test_size=len(df1)-training_size\n",
    "train_data,test_data=df1[0:training_size,:],df1[training_size:len(df1),:1]"
   ]
  },
  {
   "cell_type": "code",
   "execution_count": 23,
   "id": "f2e7deef",
   "metadata": {},
   "outputs": [],
   "source": [
    "import numpy\n",
    "# convert an array of values into a dataset matrix\n",
    "def create_dataset(dataset, time_step=1):\n",
    "\tdataX, dataY = [], []\n",
    "\tfor i in range(len(dataset)-time_step-1):\n",
    "\t\ta = dataset[i:(i+time_step), 0]   ###i=0, 0,1,2,3-----99   100 \n",
    "\t\tdataX.append(a)\n",
    "\t\tdataY.append(dataset[i + time_step, 0])\n",
    "\treturn numpy.array(dataX), numpy.array(dataY)"
   ]
  },
  {
   "cell_type": "code",
   "execution_count": 24,
   "id": "2a6884c7",
   "metadata": {},
   "outputs": [],
   "source": [
    "# reshape into X=t,t+1,t+2,t+3 and Y=t+4\n",
    "time_step = 100\n",
    "X_train, y_train = create_dataset(train_data, time_step)\n",
    "X_test, ytest = create_dataset(test_data, time_step)"
   ]
  },
  {
   "cell_type": "code",
   "execution_count": 25,
   "id": "97d1e2cd",
   "metadata": {},
   "outputs": [],
   "source": [
    "# reshape input to be [samples, time steps, features] which is required for LSTM\n",
    "X_train =X_train.reshape(X_train.shape[0],X_train.shape[1] , 1)\n",
    "X_test = X_test.reshape(X_test.shape[0],X_test.shape[1] , 1)"
   ]
  },
  {
   "cell_type": "code",
   "execution_count": 26,
   "id": "aa0931b4",
   "metadata": {},
   "outputs": [],
   "source": [
    "### Create the Stacked LSTM model\n",
    "from tensorflow.keras.models import Sequential\n",
    "from tensorflow.keras.layers import Dense\n",
    "from tensorflow.keras.layers import LSTM"
   ]
  },
  {
   "cell_type": "code",
   "execution_count": 27,
   "id": "6cf0d8b8",
   "metadata": {},
   "outputs": [],
   "source": [
    "model=Sequential()\n",
    "model.add(LSTM(50,return_sequences=True,input_shape=(100,1)))\n",
    "model.add(LSTM(50,return_sequences=True))\n",
    "model.add(LSTM(50))\n",
    "model.add(Dense(1))\n",
    "model.compile(loss='mean_squared_error',optimizer='adam')"
   ]
  },
  {
   "cell_type": "code",
   "execution_count": 28,
   "id": "24f93ef8",
   "metadata": {},
   "outputs": [
    {
     "name": "stdout",
     "output_type": "stream",
     "text": [
      "Model: \"sequential\"\n",
      "_________________________________________________________________\n",
      " Layer (type)                Output Shape              Param #   \n",
      "=================================================================\n",
      " lstm (LSTM)                 (None, 100, 50)           10400     \n",
      "                                                                 \n",
      " lstm_1 (LSTM)               (None, 100, 50)           20200     \n",
      "                                                                 \n",
      " lstm_2 (LSTM)               (None, 50)                20200     \n",
      "                                                                 \n",
      " dense (Dense)               (None, 1)                 51        \n",
      "                                                                 \n",
      "=================================================================\n",
      "Total params: 50,851\n",
      "Trainable params: 50,851\n",
      "Non-trainable params: 0\n",
      "_________________________________________________________________\n"
     ]
    }
   ],
   "source": [
    "model.summary()"
   ]
  },
  {
   "cell_type": "code",
   "execution_count": 29,
   "id": "0dd66e38",
   "metadata": {},
   "outputs": [
    {
     "name": "stdout",
     "output_type": "stream",
     "text": [
      "Epoch 1/100\n",
      "12/12 [==============================] - 4s 174ms/step - loss: 0.0315 - val_loss: 0.0011\n",
      "Epoch 2/100\n",
      "12/12 [==============================] - 1s 118ms/step - loss: 0.0143 - val_loss: 6.4263e-04\n",
      "Epoch 3/100\n",
      "12/12 [==============================] - 1s 118ms/step - loss: 0.0102 - val_loss: 3.6375e-04\n",
      "Epoch 4/100\n",
      "12/12 [==============================] - 1s 119ms/step - loss: 0.0090 - val_loss: 2.6287e-04\n",
      "Epoch 5/100\n",
      "12/12 [==============================] - 1s 120ms/step - loss: 0.0079 - val_loss: 2.3417e-04\n",
      "Epoch 6/100\n",
      "12/12 [==============================] - 1s 120ms/step - loss: 0.0093 - val_loss: 0.0015\n",
      "Epoch 7/100\n",
      "12/12 [==============================] - 1s 124ms/step - loss: 0.0072 - val_loss: 0.0012\n",
      "Epoch 8/100\n",
      "12/12 [==============================] - 1s 121ms/step - loss: 0.0067 - val_loss: 2.7011e-04\n",
      "Epoch 9/100\n",
      "12/12 [==============================] - 1s 121ms/step - loss: 0.0060 - val_loss: 2.4938e-04\n",
      "Epoch 10/100\n",
      "12/12 [==============================] - 1s 122ms/step - loss: 0.0067 - val_loss: 0.0025\n",
      "Epoch 11/100\n",
      "12/12 [==============================] - 1s 122ms/step - loss: 0.0063 - val_loss: 9.4123e-04\n",
      "Epoch 12/100\n",
      "12/12 [==============================] - 2s 127ms/step - loss: 0.0052 - val_loss: 4.8957e-04\n",
      "Epoch 13/100\n",
      "12/12 [==============================] - 1s 122ms/step - loss: 0.0058 - val_loss: 3.3855e-04\n",
      "Epoch 14/100\n",
      "12/12 [==============================] - 1s 122ms/step - loss: 0.0045 - val_loss: 6.8872e-04\n",
      "Epoch 15/100\n",
      "12/12 [==============================] - 1s 122ms/step - loss: 0.0041 - val_loss: 2.4958e-04\n",
      "Epoch 16/100\n",
      "12/12 [==============================] - 1s 122ms/step - loss: 0.0036 - val_loss: 2.3597e-04\n",
      "Epoch 17/100\n",
      "12/12 [==============================] - 1s 122ms/step - loss: 0.0034 - val_loss: 2.6253e-04\n",
      "Epoch 18/100\n",
      "12/12 [==============================] - 1s 122ms/step - loss: 0.0035 - val_loss: 2.6575e-04\n",
      "Epoch 19/100\n",
      "12/12 [==============================] - 1s 122ms/step - loss: 0.0034 - val_loss: 1.7081e-04\n",
      "Epoch 20/100\n",
      "12/12 [==============================] - 1s 122ms/step - loss: 0.0031 - val_loss: 1.9189e-04\n",
      "Epoch 21/100\n",
      "12/12 [==============================] - 1s 122ms/step - loss: 0.0027 - val_loss: 2.1978e-04\n",
      "Epoch 22/100\n",
      "12/12 [==============================] - 1s 122ms/step - loss: 0.0025 - val_loss: 2.1165e-04\n",
      "Epoch 23/100\n",
      "12/12 [==============================] - 1s 126ms/step - loss: 0.0029 - val_loss: 2.0887e-04\n",
      "Epoch 24/100\n",
      "12/12 [==============================] - 1s 123ms/step - loss: 0.0023 - val_loss: 3.7292e-04\n",
      "Epoch 25/100\n",
      "12/12 [==============================] - 1s 122ms/step - loss: 0.0031 - val_loss: 3.7117e-04\n",
      "Epoch 26/100\n",
      "12/12 [==============================] - 1s 123ms/step - loss: 0.0027 - val_loss: 2.4150e-04\n",
      "Epoch 27/100\n",
      "12/12 [==============================] - 1s 123ms/step - loss: 0.0027 - val_loss: 2.9036e-04\n",
      "Epoch 28/100\n",
      "12/12 [==============================] - 1s 122ms/step - loss: 0.0029 - val_loss: 2.2704e-04\n",
      "Epoch 29/100\n",
      "12/12 [==============================] - 1s 122ms/step - loss: 0.0030 - val_loss: 2.2394e-04\n",
      "Epoch 30/100\n",
      "12/12 [==============================] - 1s 122ms/step - loss: 0.0029 - val_loss: 3.8018e-04\n",
      "Epoch 31/100\n",
      "12/12 [==============================] - 1s 125ms/step - loss: 0.0030 - val_loss: 5.2451e-04\n",
      "Epoch 32/100\n",
      "12/12 [==============================] - 1s 123ms/step - loss: 0.0022 - val_loss: 2.0748e-04\n",
      "Epoch 33/100\n",
      "12/12 [==============================] - 1s 122ms/step - loss: 0.0019 - val_loss: 2.3430e-04\n",
      "Epoch 34/100\n",
      "12/12 [==============================] - 2s 128ms/step - loss: 0.0020 - val_loss: 1.8697e-04\n",
      "Epoch 35/100\n",
      "12/12 [==============================] - 1s 123ms/step - loss: 0.0020 - val_loss: 2.5415e-04\n",
      "Epoch 36/100\n",
      "12/12 [==============================] - 1s 123ms/step - loss: 0.0022 - val_loss: 1.8642e-04\n",
      "Epoch 37/100\n",
      "12/12 [==============================] - 1s 123ms/step - loss: 0.0022 - val_loss: 2.2851e-04\n",
      "Epoch 38/100\n",
      "12/12 [==============================] - 1s 124ms/step - loss: 0.0019 - val_loss: 3.2097e-04\n",
      "Epoch 39/100\n",
      "12/12 [==============================] - 1s 123ms/step - loss: 0.0018 - val_loss: 1.8425e-04\n",
      "Epoch 40/100\n",
      "12/12 [==============================] - 1s 122ms/step - loss: 0.0018 - val_loss: 1.9187e-04\n",
      "Epoch 41/100\n",
      "12/12 [==============================] - 1s 122ms/step - loss: 0.0050 - val_loss: 4.3986e-04\n",
      "Epoch 42/100\n",
      "12/12 [==============================] - 1s 123ms/step - loss: 0.0070 - val_loss: 0.0011\n",
      "Epoch 43/100\n",
      "12/12 [==============================] - 1s 122ms/step - loss: 0.0042 - val_loss: 6.7940e-04\n",
      "Epoch 44/100\n",
      "12/12 [==============================] - 1s 122ms/step - loss: 0.0029 - val_loss: 4.2542e-04\n",
      "Epoch 45/100\n",
      "12/12 [==============================] - 2s 130ms/step - loss: 0.0023 - val_loss: 1.9407e-04\n",
      "Epoch 46/100\n",
      "12/12 [==============================] - 1s 122ms/step - loss: 0.0019 - val_loss: 1.9615e-04\n",
      "Epoch 47/100\n",
      "12/12 [==============================] - 1s 122ms/step - loss: 0.0019 - val_loss: 2.1080e-04\n",
      "Epoch 48/100\n",
      "12/12 [==============================] - 1s 122ms/step - loss: 0.0017 - val_loss: 2.1177e-04\n",
      "Epoch 49/100\n",
      "12/12 [==============================] - 1s 123ms/step - loss: 0.0015 - val_loss: 2.0275e-04\n",
      "Epoch 50/100\n",
      "12/12 [==============================] - 1s 123ms/step - loss: 0.0015 - val_loss: 1.9425e-04\n",
      "Epoch 51/100\n",
      "12/12 [==============================] - 1s 123ms/step - loss: 0.0020 - val_loss: 2.0471e-04\n",
      "Epoch 52/100\n",
      "12/12 [==============================] - 1s 123ms/step - loss: 0.0022 - val_loss: 2.8319e-04\n",
      "Epoch 53/100\n",
      "12/12 [==============================] - 1s 123ms/step - loss: 0.0018 - val_loss: 3.0009e-04\n",
      "Epoch 54/100\n",
      "12/12 [==============================] - 1s 122ms/step - loss: 0.0019 - val_loss: 1.9074e-04\n",
      "Epoch 55/100\n",
      "12/12 [==============================] - 1s 124ms/step - loss: 0.0018 - val_loss: 3.6552e-04\n",
      "Epoch 56/100\n",
      "12/12 [==============================] - 2s 137ms/step - loss: 0.0016 - val_loss: 1.8547e-04\n",
      "Epoch 57/100\n",
      "12/12 [==============================] - 1s 126ms/step - loss: 0.0017 - val_loss: 1.8555e-04\n",
      "Epoch 58/100\n",
      "12/12 [==============================] - 2s 127ms/step - loss: 0.0031 - val_loss: 2.9245e-04\n",
      "Epoch 59/100\n",
      "12/12 [==============================] - 1s 125ms/step - loss: 0.0025 - val_loss: 4.0071e-04\n",
      "Epoch 60/100\n",
      "12/12 [==============================] - 1s 125ms/step - loss: 0.0034 - val_loss: 2.4342e-04\n",
      "Epoch 61/100\n",
      "12/12 [==============================] - 1s 124ms/step - loss: 0.0034 - val_loss: 3.5014e-04\n",
      "Epoch 62/100\n",
      "12/12 [==============================] - 2s 127ms/step - loss: 0.0030 - val_loss: 2.4711e-04\n",
      "Epoch 63/100\n",
      "12/12 [==============================] - 1s 126ms/step - loss: 0.0020 - val_loss: 1.8220e-04\n",
      "Epoch 64/100\n",
      "12/12 [==============================] - 1s 124ms/step - loss: 0.0018 - val_loss: 1.7261e-04\n",
      "Epoch 65/100\n",
      "12/12 [==============================] - 1s 125ms/step - loss: 0.0016 - val_loss: 2.1217e-04\n",
      "Epoch 66/100\n",
      "12/12 [==============================] - 1s 125ms/step - loss: 0.0016 - val_loss: 2.2505e-04\n",
      "Epoch 67/100\n",
      "12/12 [==============================] - 2s 136ms/step - loss: 0.0025 - val_loss: 3.1313e-04\n",
      "Epoch 68/100\n",
      "12/12 [==============================] - 1s 125ms/step - loss: 0.0032 - val_loss: 2.1403e-04\n",
      "Epoch 69/100\n",
      "12/12 [==============================] - 2s 127ms/step - loss: 0.0033 - val_loss: 2.3823e-04\n",
      "Epoch 70/100\n",
      "12/12 [==============================] - 1s 126ms/step - loss: 0.0026 - val_loss: 2.1094e-04\n",
      "Epoch 71/100\n",
      "12/12 [==============================] - 1s 124ms/step - loss: 0.0022 - val_loss: 1.8461e-04\n",
      "Epoch 72/100\n",
      "12/12 [==============================] - 2s 131ms/step - loss: 0.0017 - val_loss: 2.4310e-04\n",
      "Epoch 73/100\n",
      "12/12 [==============================] - 2s 135ms/step - loss: 0.0018 - val_loss: 1.6873e-04\n",
      "Epoch 74/100\n",
      "12/12 [==============================] - 2s 129ms/step - loss: 0.0015 - val_loss: 1.9928e-04\n",
      "Epoch 75/100\n",
      "12/12 [==============================] - 1s 126ms/step - loss: 0.0020 - val_loss: 2.3686e-04\n",
      "Epoch 76/100\n",
      "12/12 [==============================] - 1s 124ms/step - loss: 0.0018 - val_loss: 1.7020e-04\n",
      "Epoch 77/100\n",
      "12/12 [==============================] - 1s 126ms/step - loss: 0.0017 - val_loss: 2.0597e-04\n",
      "Epoch 78/100\n",
      "12/12 [==============================] - 2s 130ms/step - loss: 0.0016 - val_loss: 2.1342e-04\n",
      "Epoch 79/100\n",
      "12/12 [==============================] - 2s 127ms/step - loss: 0.0014 - val_loss: 1.7057e-04\n",
      "Epoch 80/100\n",
      "12/12 [==============================] - 1s 124ms/step - loss: 0.0014 - val_loss: 1.9413e-04\n",
      "Epoch 81/100\n",
      "12/12 [==============================] - 1s 124ms/step - loss: 0.0015 - val_loss: 1.6709e-04\n",
      "Epoch 82/100\n",
      "12/12 [==============================] - 1s 126ms/step - loss: 0.0026 - val_loss: 4.2594e-04\n",
      "Epoch 83/100\n",
      "12/12 [==============================] - 2s 131ms/step - loss: 0.0077 - val_loss: 2.0860e-04\n",
      "Epoch 84/100\n",
      "12/12 [==============================] - 1s 126ms/step - loss: 0.0051 - val_loss: 0.0013\n",
      "Epoch 85/100\n",
      "12/12 [==============================] - 1s 124ms/step - loss: 0.0048 - val_loss: 7.3194e-04\n",
      "Epoch 86/100\n",
      "12/12 [==============================] - 1s 124ms/step - loss: 0.0033 - val_loss: 1.8792e-04\n",
      "Epoch 87/100\n",
      "12/12 [==============================] - 2s 128ms/step - loss: 0.0031 - val_loss: 1.7647e-04\n",
      "Epoch 88/100\n",
      "12/12 [==============================] - 2s 135ms/step - loss: 0.0024 - val_loss: 3.2096e-04\n",
      "Epoch 89/100\n",
      "12/12 [==============================] - 1s 124ms/step - loss: 0.0022 - val_loss: 1.8771e-04\n",
      "Epoch 90/100\n",
      "12/12 [==============================] - 2s 128ms/step - loss: 0.0017 - val_loss: 2.8784e-04\n",
      "Epoch 91/100\n",
      "12/12 [==============================] - 1s 125ms/step - loss: 0.0019 - val_loss: 2.6595e-04\n",
      "Epoch 92/100\n",
      "12/12 [==============================] - 1s 126ms/step - loss: 0.0017 - val_loss: 3.6438e-04\n",
      "Epoch 93/100\n",
      "12/12 [==============================] - 2s 125ms/step - loss: 0.0016 - val_loss: 1.7823e-04\n",
      "Epoch 94/100\n",
      "12/12 [==============================] - 2s 127ms/step - loss: 0.0013 - val_loss: 1.6014e-04\n",
      "Epoch 95/100\n",
      "12/12 [==============================] - 1s 124ms/step - loss: 0.0013 - val_loss: 1.6563e-04\n",
      "Epoch 96/100\n",
      "12/12 [==============================] - 1s 124ms/step - loss: 0.0030 - val_loss: 2.1476e-04\n",
      "Epoch 97/100\n",
      "12/12 [==============================] - 1s 125ms/step - loss: 0.0030 - val_loss: 3.3094e-04\n",
      "Epoch 98/100\n",
      "12/12 [==============================] - 1s 123ms/step - loss: 0.0020 - val_loss: 1.6790e-04\n",
      "Epoch 99/100\n",
      "12/12 [==============================] - 2s 135ms/step - loss: 0.0016 - val_loss: 1.5953e-04\n",
      "Epoch 100/100\n",
      "12/12 [==============================] - 1s 123ms/step - loss: 0.0014 - val_loss: 3.0919e-04\n"
     ]
    },
    {
     "data": {
      "text/plain": [
       "<keras.callbacks.History at 0x7f8b0a701c10>"
      ]
     },
     "execution_count": 29,
     "metadata": {},
     "output_type": "execute_result"
    }
   ],
   "source": [
    "model.fit(X_train,y_train,validation_data=(X_test,ytest),epochs=100,batch_size=64,verbose=1)"
   ]
  },
  {
   "cell_type": "code",
   "execution_count": 30,
   "id": "ef6a9b9d",
   "metadata": {},
   "outputs": [],
   "source": [
    "import tensorflow as tf"
   ]
  },
  {
   "cell_type": "code",
   "execution_count": 31,
   "id": "5ae4131a",
   "metadata": {},
   "outputs": [
    {
     "name": "stdout",
     "output_type": "stream",
     "text": [
      "23/23 [==============================] - 1s 23ms/step\n",
      "11/11 [==============================] - 0s 23ms/step\n"
     ]
    }
   ],
   "source": [
    "### Lets Do the prediction and check performance metrics\n",
    "train_predict=model.predict(X_train)\n",
    "test_predict=model.predict(X_test)"
   ]
  },
  {
   "cell_type": "code",
   "execution_count": 32,
   "id": "c7e5e126",
   "metadata": {},
   "outputs": [],
   "source": [
    "##Transformback to original form\n",
    "train_predict=scaler.inverse_transform(train_predict)\n",
    "test_predict=scaler.inverse_transform(test_predict)"
   ]
  },
  {
   "cell_type": "code",
   "execution_count": 33,
   "id": "10cc2d2f",
   "metadata": {},
   "outputs": [
    {
     "data": {
      "text/plain": [
       "215.72428207563593"
      ]
     },
     "execution_count": 33,
     "metadata": {},
     "output_type": "execute_result"
    }
   ],
   "source": [
    "### Calculate RMSE performance metrics\n",
    "import math\n",
    "from sklearn.metrics import mean_squared_error\n",
    "math.sqrt(mean_squared_error(y_train,train_predict))"
   ]
  },
  {
   "cell_type": "code",
   "execution_count": 34,
   "id": "4eeb5f48",
   "metadata": {},
   "outputs": [
    {
     "data": {
      "text/plain": [
       "164.79955348985806"
      ]
     },
     "execution_count": 34,
     "metadata": {},
     "output_type": "execute_result"
    }
   ],
   "source": [
    "### Test Data RMSE\n",
    "math.sqrt(mean_squared_error(ytest,test_predict))"
   ]
  },
  {
   "cell_type": "code",
   "execution_count": 35,
   "id": "90113a8c",
   "metadata": {},
   "outputs": [
    {
     "data": {
      "image/png": "[encoded data removed]",
      "text/plain": [
       "<Figure size 432x288 with 1 Axes>"
      ]
     },
     "metadata": {
      "needs_background": "light"
     },
     "output_type": "display_data"
    }
   ],
   "source": [
    "### Plotting \n",
    "# shift train predictions for plotting\n",
    "look_back=100\n",
    "trainPredictPlot = numpy.empty_like(df1)\n",
    "trainPredictPlot[:, :] = np.nan\n",
    "trainPredictPlot[look_back:len(train_predict)+look_back, :] = train_predict\n",
    "# shift test predictions for plotting\n",
    "testPredictPlot = numpy.empty_like(df1)\n",
    "testPredictPlot[:, :] = numpy.nan\n",
    "testPredictPlot[len(train_predict)+(look_back*2)+1:len(df1)-1, :] = test_predict\n",
    "# plot baseline and predictions\n",
    "plt.plot(scaler.inverse_transform(df1))\n",
    "plt.plot(trainPredictPlot)\n",
    "plt.plot(testPredictPlot)\n",
    "plt.show()"
   ]
  }
 ],
 "metadata": {
  "kernelspec": {
   "display_name": "Python 3 (ipykernel)",
   "language": "python",
   "name": "python3"
  },
  "language_info": {
   "codemirror_mode": {
    "name": "ipython",
    "version": 3
   },
   "file_extension": ".py",
   "mimetype": "text/x-python",
   "name": "python",
   "nbconvert_exporter": "python",
   "pygments_lexer": "ipython3",
   "version": "3.9.7"
  }
 },
 "nbformat": 4,
 "nbformat_minor": 5
}
